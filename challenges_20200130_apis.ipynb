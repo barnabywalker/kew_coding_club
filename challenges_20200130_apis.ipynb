{
 "cells": [
  {
   "cell_type": "markdown",
   "metadata": {},
   "source": [
    "# Kew Coding Club Challenges - Using APIs\n",
    "### 2019-01-30"
   ]
  },
  {
   "cell_type": "markdown",
   "execution_count": null,
   "metadata": {},
   "outputs": [],
   "source": [
    "These challenges all centre around using the GBIF API. \n",
    "\n",
    "The base url for the API is: [http://api.gbif.org/v1/].\n",
    "\n",
    "The API endpoints are documented here: [https://www.gbif.org/developer/summary]."
   ]
  },
  {
   "cell_type": "markdown",
   "metadata": {},
   "source": [
    "## Challenge 1\n",
    "\n",
    "Use the GBIF API to get the total number of occurrence records held in their database (this website lists all of the available endpoints for occurrences: https://www.gbif.org/developer/occurrence) "
   ]
  },
  {
   "cell_type": "code",
   "execution_count": null,
   "metadata": {},
   "outputs": [],
   "source": [
    "# type your solution here"
   ]
  },
  {
   "cell_type": "markdown",
   "metadata": {},
   "source": [
    "## Challenge 2\n",
    "\n",
    "Use the GBIF API to get the total number of occurrence records for *Myrcia decortans*. You will first need to find the unique ID for the species from the species API (documented here https://www.gbif.org/developer/species)."
   ]
  },
  {
   "cell_type": "code",
   "execution_count": null,
   "metadata": {},
   "outputs": [],
   "source": [
    "# type your solution here"
   ]
  },
  {
   "cell_type": "markdown",
   "metadata": {},
   "source": [
    "## Challenge 3\n",
    "\n",
    "Use the GBIF API to get all occurrence records for *Myrcia decortans* that have coordinates without any geospatial issues. There is an upper limit on the number of occurrence records the API returns, so you may have to make multiple requests to make sure you get every occurrence record."
   ]
  },
  {
   "cell_type": "code",
   "execution_count": null,
   "metadata": {},
   "outputs": [],
   "source": []
  }
 ],
 "metadata": {
  "kernelspec": {
   "display_name": "Python 3",
   "language": "python",
   "name": "python3"
  },
  "language_info": {
   "codemirror_mode": {
    "name": "ipython",
    "version": 3
   },
   "file_extension": ".py",
   "mimetype": "text/x-python",
   "name": "python",
   "nbconvert_exporter": "python",
   "pygments_lexer": "ipython3",
   "version": "3.7.3"
  }
 },
 "nbformat": 4,
 "nbformat_minor": 2
}