{
 "cells": [
  {
   "cell_type": "markdown",
   "metadata": {},
   "source": [
    "# Kew Coding Club Challenges - Using APIs\n",
    "### 2019-01-30"
   ]
  },
  {
   "cell_type": "markdown",
   "metadata": {},
   "source": [
    "## Challenge 1\n",
    "\n",
    "Use the GBIF API to get the total number of occurrence records held in their database (this website lists all of the available endpoints for occurrences: https://www.gbif.org/developer/occurrence) "
   ]
  },
  {
   "cell_type": "code",
   "execution_count": 1,
   "metadata": {},
   "outputs": [
    {
     "data": {
      "text/plain": [
       "'There are 1,388,149,604 occurrence records in GBIF'"
      ]
     },
     "execution_count": 1,
     "metadata": {},
     "output_type": "execute_result"
    }
   ],
   "source": [
    "import requests\n",
    "\n",
    "url = \"http://api.gbif.org/v1/occurrence/count\"\n",
    "response = requests.get(url)\n",
    "f\"There are {response.json():,} occurrence records in GBIF\""
   ]
  },
  {
   "cell_type": "markdown",
   "metadata": {},
   "source": [
    "## Challenge 2\n",
    "\n",
    "Use the GBIF API to get the total number of occurrence records for *Myrcia decortans*."
   ]
  },
  {
   "cell_type": "code",
   "execution_count": 2,
   "metadata": {},
   "outputs": [
    {
     "data": {
      "text/plain": [
       "'There are 696 occurrence records for Myrcia decortans in GBIF'"
      ]
     },
     "execution_count": 2,
     "metadata": {},
     "output_type": "execute_result"
    }
   ],
   "source": [
    "occurrence_url = \"http://api.gbif.org/v1/occurrence/count\"\n",
    "backbone_url = \"http://api.gbif.org/v1/species/match\"\n",
    "species = \"Myrcia decortans\"\n",
    "\n",
    "response = requests.get(backbone_url, params={\"name\": species})\n",
    "species_results = response.json()\n",
    "species_key = species_results[\"usageKey\"]\n",
    "\n",
    "response = requests.get(occurrence_url, params={\"taxonKey\": species_key})\n",
    "n_records = response.json()\n",
    "f\"There are {n_records:,} occurrence records for {species} in GBIF\""
   ]
  },
  {
   "cell_type": "markdown",
   "metadata": {},
   "source": [
    "## Challenge 3\n",
    "\n",
    "Use the GBIF API to get all occurrence records for *Myrcia decortans* that have coordinates without any geospatial issues."
   ]
  },
  {
   "cell_type": "code",
   "execution_count": 3,
   "metadata": {},
   "outputs": [
    {
     "name": "stdout",
     "output_type": "stream",
     "text": [
      "<class 'pandas.core.frame.DataFrame'>\n",
      "RangeIndex: 470 entries, 0 to 469\n",
      "Columns: 117 entries, acceptedScientificName to year\n",
      "dtypes: float64(9), int64(11), object(97)\n",
      "memory usage: 429.7+ KB\n"
     ]
    }
   ],
   "source": [
    "import pandas as pd\n",
    "\n",
    "search_url = \"http://api.gbif.org/v1/occurrence/search\"\n",
    "params = {\n",
    "    \"taxonKey\": species_key,\n",
    "    \"hasCoordinate\": \"true\",\n",
    "    \"hasGeospatialIssue\": \"false\",\n",
    "    \"limit\": 300,\n",
    "    \"offset\": 0\n",
    "}\n",
    "\n",
    "response = requests.get(search_url, params=params)\n",
    "parsed_response = response.json()\n",
    "\n",
    "total_records = parsed_response[\"count\"]\n",
    "results = parsed_response[\"results\"]\n",
    "\n",
    "while len(results) < total_records:\n",
    "    params[\"offset\"] += len(results)\n",
    "    response = requests.get(search_url, params=params)\n",
    "    parsed_response = response.json()\n",
    "    \n",
    "    results.extend(parsed_response[\"results\"])\n",
    "    \n",
    "occurrence_records = pd.DataFrame(results)\n",
    "\n",
    "occurrence_records.info()"
   ]
  },
  {
   "cell_type": "code",
   "execution_count": 4,
   "metadata": {},
   "outputs": [
    {
     "data": {
      "text/html": [
       "<div>\n",
       "<style scoped>\n",
       "    .dataframe tbody tr th:only-of-type {\n",
       "        vertical-align: middle;\n",
       "    }\n",
       "\n",
       "    .dataframe tbody tr th {\n",
       "        vertical-align: top;\n",
       "    }\n",
       "\n",
       "    .dataframe thead th {\n",
       "        text-align: right;\n",
       "    }\n",
       "</style>\n",
       "<table border=\"1\" class=\"dataframe\">\n",
       "  <thead>\n",
       "    <tr style=\"text-align: right;\">\n",
       "      <th></th>\n",
       "      <th>acceptedScientificName</th>\n",
       "      <th>acceptedTaxonKey</th>\n",
       "      <th>accessRights</th>\n",
       "      <th>basisOfRecord</th>\n",
       "      <th>bibliographicCitation</th>\n",
       "      <th>catalogNumber</th>\n",
       "      <th>class</th>\n",
       "      <th>classKey</th>\n",
       "      <th>collectionCode</th>\n",
       "      <th>collectionID</th>\n",
       "      <th>...</th>\n",
       "      <th>taxonRank</th>\n",
       "      <th>taxonomicStatus</th>\n",
       "      <th>type</th>\n",
       "      <th>typeStatus</th>\n",
       "      <th>typifiedName</th>\n",
       "      <th>verbatimElevation</th>\n",
       "      <th>verbatimEventDate</th>\n",
       "      <th>verbatimLocality</th>\n",
       "      <th>vernacularName</th>\n",
       "      <th>year</th>\n",
       "    </tr>\n",
       "  </thead>\n",
       "  <tbody>\n",
       "    <tr>\n",
       "      <th>0</th>\n",
       "      <td>Myrcia decorticans DC.</td>\n",
       "      <td>3174041</td>\n",
       "      <td>NaN</td>\n",
       "      <td>HUMAN_OBSERVATION</td>\n",
       "      <td>NaN</td>\n",
       "      <td>KwCu9_69</td>\n",
       "      <td>Magnoliopsida</td>\n",
       "      <td>220</td>\n",
       "      <td>NTFP_Kw_Cu</td>\n",
       "      <td>NaN</td>\n",
       "      <td>...</td>\n",
       "      <td>SPECIES</td>\n",
       "      <td>ACCEPTED</td>\n",
       "      <td>NaN</td>\n",
       "      <td>NaN</td>\n",
       "      <td>NaN</td>\n",
       "      <td>NaN</td>\n",
       "      <td>NaN</td>\n",
       "      <td>NaN</td>\n",
       "      <td>saha</td>\n",
       "      <td>2017.0</td>\n",
       "    </tr>\n",
       "    <tr>\n",
       "      <th>1</th>\n",
       "      <td>Myrcia decorticans DC.</td>\n",
       "      <td>3174041</td>\n",
       "      <td>NaN</td>\n",
       "      <td>PRESERVED_SPECIMEN</td>\n",
       "      <td>NaN</td>\n",
       "      <td>80323</td>\n",
       "      <td>Magnoliopsida</td>\n",
       "      <td>220</td>\n",
       "      <td>IPA</td>\n",
       "      <td>NaN</td>\n",
       "      <td>...</td>\n",
       "      <td>SPECIES</td>\n",
       "      <td>ACCEPTED</td>\n",
       "      <td>Collection</td>\n",
       "      <td>NaN</td>\n",
       "      <td>NaN</td>\n",
       "      <td>NaN</td>\n",
       "      <td>NaN</td>\n",
       "      <td>NaN</td>\n",
       "      <td>NaN</td>\n",
       "      <td>2017.0</td>\n",
       "    </tr>\n",
       "    <tr>\n",
       "      <th>2</th>\n",
       "      <td>Myrcia decorticans DC.</td>\n",
       "      <td>3174041</td>\n",
       "      <td>NaN</td>\n",
       "      <td>PRESERVED_SPECIMEN</td>\n",
       "      <td>NaN</td>\n",
       "      <td>63712</td>\n",
       "      <td>Magnoliopsida</td>\n",
       "      <td>220</td>\n",
       "      <td>JPB</td>\n",
       "      <td>NaN</td>\n",
       "      <td>...</td>\n",
       "      <td>SPECIES</td>\n",
       "      <td>ACCEPTED</td>\n",
       "      <td>Collection</td>\n",
       "      <td>NaN</td>\n",
       "      <td>NaN</td>\n",
       "      <td>NaN</td>\n",
       "      <td>NaN</td>\n",
       "      <td>NaN</td>\n",
       "      <td>NaN</td>\n",
       "      <td>2017.0</td>\n",
       "    </tr>\n",
       "    <tr>\n",
       "      <th>3</th>\n",
       "      <td>Myrcia decorticans DC.</td>\n",
       "      <td>3174041</td>\n",
       "      <td>NaN</td>\n",
       "      <td>PRESERVED_SPECIMEN</td>\n",
       "      <td>NaN</td>\n",
       "      <td>64148</td>\n",
       "      <td>Magnoliopsida</td>\n",
       "      <td>220</td>\n",
       "      <td>MAC</td>\n",
       "      <td>NaN</td>\n",
       "      <td>...</td>\n",
       "      <td>SPECIES</td>\n",
       "      <td>ACCEPTED</td>\n",
       "      <td>Collection</td>\n",
       "      <td>NaN</td>\n",
       "      <td>NaN</td>\n",
       "      <td>NaN</td>\n",
       "      <td>NaN</td>\n",
       "      <td>NaN</td>\n",
       "      <td>NaN</td>\n",
       "      <td>2017.0</td>\n",
       "    </tr>\n",
       "    <tr>\n",
       "      <th>4</th>\n",
       "      <td>Myrcia decorticans DC.</td>\n",
       "      <td>3174041</td>\n",
       "      <td>NaN</td>\n",
       "      <td>PRESERVED_SPECIMEN</td>\n",
       "      <td>NaN</td>\n",
       "      <td>RB01421744</td>\n",
       "      <td>Magnoliopsida</td>\n",
       "      <td>220</td>\n",
       "      <td>RB</td>\n",
       "      <td>NaN</td>\n",
       "      <td>...</td>\n",
       "      <td>SPECIES</td>\n",
       "      <td>ACCEPTED</td>\n",
       "      <td>Physical Object</td>\n",
       "      <td>NaN</td>\n",
       "      <td>NaN</td>\n",
       "      <td>NaN</td>\n",
       "      <td>NaN</td>\n",
       "      <td>NaN</td>\n",
       "      <td>NaN</td>\n",
       "      <td>2017.0</td>\n",
       "    </tr>\n",
       "  </tbody>\n",
       "</table>\n",
       "<p>5 rows × 117 columns</p>\n",
       "</div>"
      ],
      "text/plain": [
       "   acceptedScientificName  acceptedTaxonKey accessRights       basisOfRecord  \\\n",
       "0  Myrcia decorticans DC.           3174041          NaN   HUMAN_OBSERVATION   \n",
       "1  Myrcia decorticans DC.           3174041          NaN  PRESERVED_SPECIMEN   \n",
       "2  Myrcia decorticans DC.           3174041          NaN  PRESERVED_SPECIMEN   \n",
       "3  Myrcia decorticans DC.           3174041          NaN  PRESERVED_SPECIMEN   \n",
       "4  Myrcia decorticans DC.           3174041          NaN  PRESERVED_SPECIMEN   \n",
       "\n",
       "  bibliographicCitation catalogNumber          class  classKey collectionCode  \\\n",
       "0                   NaN      KwCu9_69  Magnoliopsida       220     NTFP_Kw_Cu   \n",
       "1                   NaN         80323  Magnoliopsida       220            IPA   \n",
       "2                   NaN         63712  Magnoliopsida       220            JPB   \n",
       "3                   NaN         64148  Magnoliopsida       220            MAC   \n",
       "4                   NaN    RB01421744  Magnoliopsida       220             RB   \n",
       "\n",
       "  collectionID  ... taxonRank  taxonomicStatus             type typeStatus  \\\n",
       "0          NaN  ...   SPECIES         ACCEPTED              NaN        NaN   \n",
       "1          NaN  ...   SPECIES         ACCEPTED       Collection        NaN   \n",
       "2          NaN  ...   SPECIES         ACCEPTED       Collection        NaN   \n",
       "3          NaN  ...   SPECIES         ACCEPTED       Collection        NaN   \n",
       "4          NaN  ...   SPECIES         ACCEPTED  Physical Object        NaN   \n",
       "\n",
       "  typifiedName  verbatimElevation verbatimEventDate verbatimLocality  \\\n",
       "0          NaN                NaN               NaN              NaN   \n",
       "1          NaN                NaN               NaN              NaN   \n",
       "2          NaN                NaN               NaN              NaN   \n",
       "3          NaN                NaN               NaN              NaN   \n",
       "4          NaN                NaN               NaN              NaN   \n",
       "\n",
       "  vernacularName    year  \n",
       "0           saha  2017.0  \n",
       "1            NaN  2017.0  \n",
       "2            NaN  2017.0  \n",
       "3            NaN  2017.0  \n",
       "4            NaN  2017.0  \n",
       "\n",
       "[5 rows x 117 columns]"
      ]
     },
     "execution_count": 4,
     "metadata": {},
     "output_type": "execute_result"
    }
   ],
   "source": [
    "occurrence_records.head()"
   ]
  },
  {
   "cell_type": "code",
   "execution_count": null,
   "metadata": {},
   "outputs": [],
   "source": []
  }
 ],
 "metadata": {
  "kernelspec": {
   "display_name": "Python 3",
   "language": "python",
   "name": "python3"
  },
  "language_info": {
   "codemirror_mode": {
    "name": "ipython",
    "version": 3
   },
   "file_extension": ".py",
   "mimetype": "text/x-python",
   "name": "python",
   "nbconvert_exporter": "python",
   "pygments_lexer": "ipython3",
   "version": "3.7.3"
  }
 },
 "nbformat": 4,
 "nbformat_minor": 2
}
